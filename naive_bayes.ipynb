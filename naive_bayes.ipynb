{
 "cells": [
  {
   "cell_type": "code",
   "execution_count": 1,
   "metadata": {},
   "outputs": [],
   "source": [
    "from sklearn.datasets import fetch_openml\n",
    "from sklearn.model_selection import train_test_split\n",
    "X,y = fetch_openml('mnist_784', version=1, return_X_y=True)\n",
    "y = y.astype(int)\n",
    "X = X/255\n",
    "\n",
    "X_train, X_test, y_train, y_test = train_test_split(X, y, test_size=10000, random_state=42, shuffle=True)\n"
   ]
  },
  {
   "cell_type": "code",
   "execution_count": 63,
   "metadata": {},
   "outputs": [],
   "source": [
    "import numpy as np\n",
    "import pandas as pd\n",
    "from sklearn.base import BaseEstimator\n",
    "from scipy.stats import beta\n",
    "\n",
    "class beta_NaiveBayes(BaseEstimator):\n",
    "    \n",
    "    def fit(self, X_train, y_train):\n",
    "        self.X_train = X_train\n",
    "        self.y_train = y_train\n",
    "        self.alphas = [None] * 10\n",
    "        self.betas = [None] * 10\n",
    "        self.p_class = [None] * 10\n",
    "\n",
    "        for c in range(10):\n",
    "            x_class_n = self.X_train[self.y_train == c]\n",
    "\n",
    "            means = np.mean(x_class_n, axis=0)\n",
    "            variances = np.var(x_class_n, axis=0)           \n",
    "            \n",
    "            ks = ((means * (1 - means)) / variances) - 1\n",
    "            alphas = ks * means\n",
    "            betas = ks * (1 - means)\n",
    "\n",
    "            n_y_class_c = len(self.y_train[self.y_train == c])\n",
    "\n",
    "            p_class = n_y_class_c / len(self.y_train)\n",
    "\n",
    "            self.alphas[c] = np.array(alphas)\n",
    "            self.betas[c] = np.array(betas)\n",
    "            self.p_class[c] = np.array(p_class)\n",
    "\n",
    "\n",
    "    def predict(self, X):\n",
    "\n",
    "        predict = np.array([])\n",
    "\n",
    "        for index, row in X.iterrows():\n",
    "\n",
    "            p = 0\n",
    "            _class = None\n",
    "            row = np.array(row)\n",
    "\n",
    "            for c in range(10):\n",
    "\n",
    "                alphas = self.alphas[c]\n",
    "                betas = self.betas[c]\n",
    "                p_class = self.p_class[c]\n",
    "                \n",
    "                betas_plus = beta.cdf(row+0.05, alphas, betas)\n",
    "                betas_minus = beta.cdf(row-0.05, alphas, betas)\n",
    "                beta_probs = betas_plus - betas_minus\n",
    "                \n",
    "                np.nan_to_num(beta_probs, copy=False, nan=1.0)\n",
    "                p_temp = np.product(beta_probs) * p_class\n",
    "                \n",
    "\n",
    "                if p_temp >= p:\n",
    "                    p = p_temp\n",
    "                    _class = c\n",
    "            \n",
    "            predict = np.append(predict, _class)\n",
    "        \n",
    "        return predict\n",
    "\n",
    "\n"
   ]
  },
  {
   "cell_type": "code",
   "execution_count": 64,
   "metadata": {},
   "outputs": [],
   "source": [
    "#Create a Naive Bayes Classifier\n",
    "clf = beta_NaiveBayes() \n",
    "\n",
    "#Train the model using the training sets\n",
    "clf.fit(X_train, y_train)"
   ]
  },
  {
   "cell_type": "code",
   "execution_count": 65,
   "metadata": {},
   "outputs": [],
   "source": [
    "#Predict the response for test dataset\n",
    "y_pred = clf.predict(X_test)"
   ]
  },
  {
   "cell_type": "code",
   "execution_count": 66,
   "metadata": {},
   "outputs": [
    {
     "name": "stdout",
     "output_type": "stream",
     "text": [
      "Accuracy: 0.8399\n"
     ]
    }
   ],
   "source": [
    "from sklearn import metrics\n",
    "\n",
    "# Model Accuracy: how often is the classifier correct?\n",
    "print(\"Accuracy:\",metrics.accuracy_score(y_test, y_pred))"
   ]
  },
  {
   "cell_type": "code",
   "execution_count": 67,
   "metadata": {},
   "outputs": [
    {
     "data": {
      "text/plain": [
       "<sklearn.metrics._plot.confusion_matrix.ConfusionMatrixDisplay at 0x7fd5e5490ee0>"
      ]
     },
     "execution_count": 67,
     "metadata": {},
     "output_type": "execute_result"
    },
    {
     "data": {
      "image/png": "[encoded data removed]",
      "text/plain": [
       "<Figure size 432x288 with 2 Axes>"
      ]
     },
     "metadata": {
      "needs_background": "light"
     },
     "output_type": "display_data"
    }
   ],
   "source": [
    "from sklearn.metrics import confusion_matrix,ConfusionMatrixDisplay\n",
    "\n",
    "cm = confusion_matrix(y_test, y_pred, labels=[x for x in range(10)])\n",
    "display = ConfusionMatrixDisplay(confusion_matrix=cm,display_labels=[x for x in range(10)])\n",
    "display.plot()"
   ]
  }
 ],
 "metadata": {
  "kernelspec": {
   "display_name": "base",
   "language": "python",
   "name": "python3"
  },
  "language_info": {
   "codemirror_mode": {
    "name": "ipython",
    "version": 3
   },
   "file_extension": ".py",
   "mimetype": "text/x-python",
   "name": "python",
   "nbconvert_exporter": "python",
   "pygments_lexer": "ipython3",
   "version": "3.9.7"
  },
  "orig_nbformat": 4,
  "vscode": {
   "interpreter": {
    "hash": "3d9dcdbb30ebf747778e694a52901c091fa5757989fa1e90af9632e179cafb55"
   }
  }
 },
 "nbformat": 4,
 "nbformat_minor": 2
}
