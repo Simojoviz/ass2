{
 "cells": [
  {
   "cell_type": "code",
   "execution_count": 1,
   "metadata": {},
   "outputs": [],
   "source": [
    "from sklearn.datasets import fetch_openml\n",
    "from sklearn.model_selection import train_test_split\n",
    "X,y = fetch_openml('mnist_784', version=1, return_X_y=True)\n",
    "y = y.astype(int)\n",
    "X = X/255\n",
    "\n",
    "X_train, X_test, y_train, y_test = train_test_split(X, y, test_size=10000, random_state=42, shuffle=True)"
   ]
  },
  {
   "cell_type": "code",
   "execution_count": 53,
   "metadata": {},
   "outputs": [],
   "source": [
    "from sklearn.base import BaseEstimator\n",
    "import numpy as np\n",
    "import statistics\n",
    "from sklearn.metrics import accuracy_score\n",
    "\n",
    "class knn(BaseEstimator):\n",
    "\n",
    "    def __init__(self,k=5):\n",
    "        self.k = k\n",
    "\n",
    "    def fit(self, X_train, y_train):\n",
    "        self.X_train = np.array(X_train)\n",
    "        self.y_train = np.array(y_train)\n",
    "\n",
    "    def __supp(self, x):\n",
    "\n",
    "        distances = np.linalg.norm(x - self.X_train, axis=1)\n",
    "        neighbors_y = self.y_train[np.argsort(distances)[:self.k]]\n",
    "\n",
    "        return statistics.mode(neighbors_y)\n",
    "\n",
    "\n",
    "\n",
    "    def predict(self, X_test):\n",
    "        X_test = np.array(X_test)\n",
    "        predict = np.array([])\n",
    "        #i = 0\n",
    "\n",
    "        for x in X_test:\n",
    "            #i += 1\n",
    "            predict = np.append(predict, self.__supp(x))\n",
    "            #if (i % 100 == 0):\n",
    "            #    print(f\"{i} iteration\")\n",
    "        return predict\n",
    "\n",
    "    def score(self, X, y):\n",
    "        pred = self.predict(X)\n",
    "        return accuracy_score(y, pred)"
   ]
  },
  {
   "cell_type": "code",
   "execution_count": null,
   "metadata": {},
   "outputs": [],
   "source": [
    "from sklearn.model_selection import GridSearchCV\n",
    "from sklearn.metrics import accuracy_score\n",
    "from sklearn.model_selection import cross_val_score\n",
    "from sklearn.model_selection import train_test_split\n",
    "\n",
    "X_train_cv = X_train[:6000]\n",
    "y_train_cv = y_train[:6000]\n",
    "\n",
    "\n",
    "model = knn()\n",
    "parameters = { 'k': [ 5, 10, 15, 20]}\n",
    "\n",
    "        \n",
    "tuned_model = GridSearchCV(model, parameters, cv=10, verbose=0)\n",
    "tuned_model.fit(X_train_cv, y_train_cv.values.ravel())\n",
    "\n",
    "print (\"Best Score: {:.3f}\".format(tuned_model.best_score_) )\n",
    "print (\"Best Params: \", tuned_model.best_params_)"
   ]
  },
  {
   "cell_type": "code",
   "execution_count": 61,
   "metadata": {},
   "outputs": [],
   "source": [
    "#Create a KNN Classifier\n",
    "clf = knn(k=5) \n",
    "\n",
    "#Train the model using the training sets\n",
    "clf.fit(X_train, y_train)\n",
    "\n",
    "#Predict the response for test dataset\n",
    "y_pred = clf.predict(X_test)"
   ]
  },
  {
   "cell_type": "code",
   "execution_count": 64,
   "metadata": {},
   "outputs": [],
   "source": [
    "from sklearn.neighbors import KNeighborsClassifier\n",
    "\n",
    "model = KNeighborsClassifier(n_neighbors=5)\n",
    "\n",
    "model.fit(X_train, y_train)\n",
    "\n",
    "y_pred_2 = model.predict(X_test)"
   ]
  },
  {
   "cell_type": "code",
   "execution_count": 69,
   "metadata": {},
   "outputs": [
    {
     "name": "stdout",
     "output_type": "stream",
     "text": [
      "Accuracy: 0.9719\n"
     ]
    }
   ],
   "source": [
    "from sklearn import metrics\n",
    "\n",
    "# Model Accuracy: how often is the classifier correct?\n",
    "print(\"Accuracy:\",metrics.accuracy_score(y_test, y_pred))"
   ]
  }
 ],
 "metadata": {
  "kernelspec": {
   "display_name": "base",
   "language": "python",
   "name": "python3"
  },
  "language_info": {
   "codemirror_mode": {
    "name": "ipython",
    "version": 3
   },
   "file_extension": ".py",
   "mimetype": "text/x-python",
   "name": "python",
   "nbconvert_exporter": "python",
   "pygments_lexer": "ipython3",
   "version": "3.9.7"
  },
  "orig_nbformat": 4,
  "vscode": {
   "interpreter": {
    "hash": "3d9dcdbb30ebf747778e694a52901c091fa5757989fa1e90af9632e179cafb55"
   }
  }
 },
 "nbformat": 4,
 "nbformat_minor": 2
}
