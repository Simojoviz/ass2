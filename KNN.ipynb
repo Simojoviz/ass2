{
 "cells": [
  {
   "cell_type": "code",
   "execution_count": 4,
   "metadata": {},
   "outputs": [],
   "source": [
    "from sklearn.datasets import fetch_openml\n",
    "from sklearn.model_selection import train_test_split\n",
    "X,y = fetch_openml('mnist_784', version=1, return_X_y=True)\n",
    "y = y.astype(int)\n",
    "X = X/255\n",
    "\n",
    "X_train, X_test, y_train, y_test = train_test_split(X, y, test_size=10000, random_state=42, shuffle=True)"
   ]
  },
  {
   "cell_type": "code",
   "execution_count": 116,
   "metadata": {},
   "outputs": [],
   "source": [
    "from sklearn.base import BaseEstimator\n",
    "from sklearn.neighbors import KNeighborsClassifier\n",
    "import numpy as np\n",
    "import statistics\n",
    "\n",
    "class knn(BaseEstimator):\n",
    "\n",
    "    def __init__(self,k=5):\n",
    "        self.k = k\n",
    "\n",
    "    def fit(self, X_train, y_train):\n",
    "        self.X_train = X_train.to_numpy()\n",
    "        self.y_train = y_train.to_numpy()\n",
    "\n",
    "    def __supp(self, x):\n",
    "\n",
    "        distances = np.array([np.linalg.norm(t - x) for t in self.X_train])\n",
    "        neighbors_y = np.array([ self.y_train[i] for i in np.argsort(distances)[:self.k]])\n",
    "\n",
    "        return statistics.mode(neighbors_y)\n",
    "\n",
    "\n",
    "\n",
    "    def predict(self, X_test):\n",
    "        X_test = X_test.to_numpy()\n",
    "        predict = np.array([])\n",
    "        i = 0\n",
    "\n",
    "        for x in X_test:\n",
    "            i += 1\n",
    "            predict = np.append(predict, self.__supp(x))\n",
    "            #if (i % 100 == 0):\n",
    "            #    print(f\"{i} iteration\")\n",
    "        return predict"
   ]
  },
  {
   "cell_type": "code",
   "execution_count": 117,
   "metadata": {},
   "outputs": [],
   "source": [
    "\n",
    "\n",
    "#Create a KNN Classifier\n",
    "clf = knn(k=5) \n",
    "\n",
    "#Train the model using the training sets\n",
    "clf.fit(X_train[:30000], y_train[:30000])\n",
    "\n",
    "#Predict the response for test dataset\n",
    "y_pred = clf.predict(X_test[:5000])"
   ]
  },
  {
   "cell_type": "code",
   "execution_count": 118,
   "metadata": {},
   "outputs": [
    {
     "name": "stdout",
     "output_type": "stream",
     "text": [
      "Accuracy: 0.9606\n"
     ]
    }
   ],
   "source": [
    "from sklearn import metrics\n",
    "\n",
    "# Model Accuracy: how often is the classifier correct?\n",
    "print(\"Accuracy:\",metrics.accuracy_score(y_test[:5000], y_pred[:5000]))"
   ]
  }
 ],
 "metadata": {
  "kernelspec": {
   "display_name": "base",
   "language": "python",
   "name": "python3"
  },
  "language_info": {
   "codemirror_mode": {
    "name": "ipython",
    "version": 3
   },
   "file_extension": ".py",
   "mimetype": "text/x-python",
   "name": "python",
   "nbconvert_exporter": "python",
   "pygments_lexer": "ipython3",
   "version": "3.9.7"
  },
  "orig_nbformat": 4,
  "vscode": {
   "interpreter": {
    "hash": "3d9dcdbb30ebf747778e694a52901c091fa5757989fa1e90af9632e179cafb55"
   }
  }
 },
 "nbformat": 4,
 "nbformat_minor": 2
}
